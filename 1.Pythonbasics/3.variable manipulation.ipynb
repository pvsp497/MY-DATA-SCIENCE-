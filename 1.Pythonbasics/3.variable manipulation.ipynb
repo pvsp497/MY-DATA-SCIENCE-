{
 "cells": [
  {
   "cell_type": "code",
   "execution_count": 9,
   "metadata": {
    "collapsed": false
   },
   "outputs": [
    {
     "name": "stdout",
     "output_type": "stream",
     "text": [
      "if a circle has a radius of 5 units , then the area of the circle is 78.5\n"
     ]
    }
   ],
   "source": [
    "pi = 3.14\n",
    "radius = 5\n",
    "areaofthecircle = pi * (radius * radius)\n",
    "nicestring = \"if a circle has a radius of \" + str(radius) + \" units , then the area of the circle is \" + str(areaofthecircle)\n",
    "print nicestring"
   ]
  },
  {
   "cell_type": "code",
   "execution_count": null,
   "metadata": {
    "collapsed": true
   },
   "outputs": [],
   "source": []
  }
 ],
 "metadata": {
  "kernelspec": {
   "display_name": "Python 2",
   "language": "python",
   "name": "python2"
  },
  "language_info": {
   "codemirror_mode": {
    "name": "ipython",
    "version": 2
   },
   "file_extension": ".py",
   "mimetype": "text/x-python",
   "name": "python",
   "nbconvert_exporter": "python",
   "pygments_lexer": "ipython2",
   "version": "2.7.13"
  }
 },
 "nbformat": 4,
 "nbformat_minor": 2
}
